{
  "nbformat": 4,
  "nbformat_minor": 0,
  "metadata": {
    "colab": {
      "name": "road_analysis.ipynb",
      "provenance": [],
      "collapsed_sections": []
    },
    "kernelspec": {
      "name": "python3",
      "display_name": "Python 3"
    },
    "language_info": {
      "name": "python"
    },
    "accelerator": "GPU"
  },
  "cells": [
    {
      "cell_type": "code",
      "source": [
        "import tensorflow as tf\n",
        "tf.keras.backend.clear_session()"
      ],
      "metadata": {
        "id": "_jQ6fMPAD3Of"
      },
      "execution_count": 2,
      "outputs": []
    },
    {
      "cell_type": "code",
      "source": [
        "import zipfile\n",
        "\n",
        "# Unzip the archive\n",
        "local_zip = '/content/kpt-scem.zip'\n",
        "zip_ref = zipfile.ZipFile(local_zip, 'r')\n",
        "zip_ref.extractall()\n",
        "\n",
        "zip_ref.close()"
      ],
      "metadata": {
        "id": "5bAdH9hrEAoH"
      },
      "execution_count": 3,
      "outputs": []
    },
    {
      "cell_type": "code",
      "source": [
        "import os\n",
        "\n",
        "base_dir = '/content'\n",
        "\n",
        "# print(\"Contents of base directory:\")\n",
        "# print(os.listdir(base_dir))\n",
        "\n",
        "# print(\"\\nContents of train directory:\")\n",
        "# print(os.listdir(f'{base_dir}/train'))\n",
        "\n",
        "# print(\"\\nContents of validation directory:\")\n",
        "# print(os.listdir(f'{base_dir}/validation'))\n",
        "\n",
        "train_dir = os.path.join(base_dir, 'training')\n",
        "validation_dir = os.path.join(base_dir, 'validation')\n",
        "\n",
        "# Directory with training cat/dog pictures\n",
        "# train_cats_dir = os.path.join(train_dir, 'cats')\n",
        "# train_dogs_dir = os.path.join(train_dir, 'dogs')\n",
        "\n",
        "# Directory with validation cat/dog pictures\n",
        "# validation_cats_dir = os.path.join(validation_dir, 'cats')\n",
        "# validation_dogs_dir = os.path.join(validation_dir, 'dogs')"
      ],
      "metadata": {
        "id": "y0OI0YXTkE9f"
      },
      "execution_count": 4,
      "outputs": []
    },
    {
      "cell_type": "code",
      "source": [
        "import tensorflow as tf\n",
        "\n",
        "model = tf.keras.models.Sequential([\n",
        "    tf.keras.layers.Conv2D(16, (3,3), activation='relu', input_shape=(310, 154, 3)),\n",
        "    tf.keras.layers.MaxPooling2D(2,2),\n",
        "    tf.keras.layers.Conv2D(32, (3,3), activation='relu'),\n",
        "    tf.keras.layers.MaxPooling2D(2,2), \n",
        "    tf.keras.layers.Conv2D(64, (3,3), activation='relu'), \n",
        "    tf.keras.layers.MaxPooling2D(2,2),\n",
        "    tf.keras.layers.Flatten(), \n",
        "    tf.keras.layers.Dense(256, activation='relu'),\n",
        "    tf.keras.layers.Dense(4, activation='softmax')  \n",
        "])"
      ],
      "metadata": {
        "id": "sGTR7vPqj_7S"
      },
      "execution_count": 5,
      "outputs": []
    },
    {
      "cell_type": "code",
      "source": [
        "model.summary()"
      ],
      "metadata": {
        "colab": {
          "base_uri": "https://localhost:8080/"
        },
        "id": "WPLXA5oZj8lD",
        "outputId": "7782d897-40b9-42ab-8016-ec57dd71ee4b"
      },
      "execution_count": 6,
      "outputs": [
        {
          "output_type": "stream",
          "name": "stdout",
          "text": [
            "Model: \"sequential\"\n",
            "_________________________________________________________________\n",
            " Layer (type)                Output Shape              Param #   \n",
            "=================================================================\n",
            " conv2d (Conv2D)             (None, 308, 152, 16)      448       \n",
            "                                                                 \n",
            " max_pooling2d (MaxPooling2D  (None, 154, 76, 16)      0         \n",
            " )                                                               \n",
            "                                                                 \n",
            " conv2d_1 (Conv2D)           (None, 152, 74, 32)       4640      \n",
            "                                                                 \n",
            " max_pooling2d_1 (MaxPooling  (None, 76, 37, 32)       0         \n",
            " 2D)                                                             \n",
            "                                                                 \n",
            " conv2d_2 (Conv2D)           (None, 74, 35, 64)        18496     \n",
            "                                                                 \n",
            " max_pooling2d_2 (MaxPooling  (None, 37, 17, 64)       0         \n",
            " 2D)                                                             \n",
            "                                                                 \n",
            " flatten (Flatten)           (None, 40256)             0         \n",
            "                                                                 \n",
            " dense (Dense)               (None, 256)               10305792  \n",
            "                                                                 \n",
            " dense_1 (Dense)             (None, 4)                 1028      \n",
            "                                                                 \n",
            "=================================================================\n",
            "Total params: 10,330,404\n",
            "Trainable params: 10,330,404\n",
            "Non-trainable params: 0\n",
            "_________________________________________________________________\n"
          ]
        }
      ]
    },
    {
      "cell_type": "code",
      "source": [
        "model.compile(loss='categorical_crossentropy',optimizer='adam',metrics=['accuracy'])\n",
        "# from tensorflow.keras.optimizers import RMSprop\n",
        "\n",
        "# model.compile(optimizer=RMSprop(learning_rate=0.001),\n",
        "#               loss='binary_crossentropy',\n",
        "#               metrics = ['accuracy'])"
      ],
      "metadata": {
        "id": "CjZX-K_aj7cr"
      },
      "execution_count": 7,
      "outputs": []
    },
    {
      "cell_type": "code",
      "source": [
        "from tensorflow.keras.preprocessing.image import ImageDataGenerator\n",
        "\n",
        "# All images will be rescaled by 1./255.\n",
        "train_datagen = ImageDataGenerator( rescale = 1.0/255. )\n",
        "test_datagen  = ImageDataGenerator( rescale = 1.0/255. )"
      ],
      "metadata": {
        "id": "aeqfo8-VE3zC"
      },
      "execution_count": 8,
      "outputs": []
    },
    {
      "cell_type": "code",
      "source": [
        "train_generator = train_datagen.flow_from_directory(train_dir,\n",
        "                                                    class_mode='categorical',\n",
        "                                                    target_size=(310, 154))     \n",
        "# --------------------\n",
        "# Flow validation images in batches of 20 using test_datagen generator\n",
        "# --------------------\n",
        "validation_generator =  test_datagen.flow_from_directory(validation_dir,\n",
        "                                                         class_mode  = 'categorical',\n",
        "                                                         target_size = (310, 154))"
      ],
      "metadata": {
        "colab": {
          "base_uri": "https://localhost:8080/"
        },
        "id": "NKgme8Y6jquW",
        "outputId": "5f87f184-7a33-41d0-bdbc-d92f2fe81c56"
      },
      "execution_count": 9,
      "outputs": [
        {
          "output_type": "stream",
          "name": "stdout",
          "text": [
            "Found 1142 images belonging to 4 classes.\n",
            "Found 273 images belonging to 4 classes.\n"
          ]
        }
      ]
    },
    {
      "cell_type": "code",
      "source": [
        "history = model.fit(\n",
        "            train_generator,\n",
        "            epochs=100,\n",
        "            validation_data=validation_generator,\n",
        "            verbose=1)"
      ],
      "metadata": {
        "colab": {
          "base_uri": "https://localhost:8080/"
        },
        "id": "shJjd3BIjtqq",
        "outputId": "e4b34921-7eed-4ac9-ad57-3eeee5fbcba2"
      },
      "execution_count": 11,
      "outputs": [
        {
          "output_type": "stream",
          "name": "stdout",
          "text": [
            "Epoch 1/100\n",
            "36/36 [==============================] - 4s 108ms/step - loss: 0.3126 - accuracy: 0.8940 - val_loss: 1.0180 - val_accuracy: 0.6703\n",
            "Epoch 2/100\n",
            "36/36 [==============================] - 4s 103ms/step - loss: 0.2819 - accuracy: 0.8949 - val_loss: 1.1766 - val_accuracy: 0.6813\n",
            "Epoch 3/100\n",
            "36/36 [==============================] - 4s 104ms/step - loss: 0.2791 - accuracy: 0.9019 - val_loss: 1.0630 - val_accuracy: 0.6777\n",
            "Epoch 4/100\n",
            "36/36 [==============================] - 4s 104ms/step - loss: 0.2431 - accuracy: 0.9177 - val_loss: 1.2530 - val_accuracy: 0.7143\n",
            "Epoch 5/100\n",
            "36/36 [==============================] - 4s 108ms/step - loss: 0.2349 - accuracy: 0.9194 - val_loss: 1.0670 - val_accuracy: 0.6850\n",
            "Epoch 6/100\n",
            "36/36 [==============================] - 4s 114ms/step - loss: 0.1543 - accuracy: 0.9492 - val_loss: 1.2392 - val_accuracy: 0.6996\n",
            "Epoch 7/100\n",
            "36/36 [==============================] - 4s 103ms/step - loss: 0.1408 - accuracy: 0.9466 - val_loss: 1.3012 - val_accuracy: 0.7363\n",
            "Epoch 8/100\n",
            "36/36 [==============================] - 4s 104ms/step - loss: 0.1148 - accuracy: 0.9623 - val_loss: 1.2988 - val_accuracy: 0.7363\n",
            "Epoch 9/100\n",
            "36/36 [==============================] - 4s 104ms/step - loss: 0.1014 - accuracy: 0.9650 - val_loss: 1.3552 - val_accuracy: 0.7070\n",
            "Epoch 10/100\n",
            "36/36 [==============================] - 4s 104ms/step - loss: 0.1071 - accuracy: 0.9650 - val_loss: 1.4451 - val_accuracy: 0.7143\n",
            "Epoch 11/100\n",
            "36/36 [==============================] - 4s 122ms/step - loss: 0.0850 - accuracy: 0.9737 - val_loss: 1.4100 - val_accuracy: 0.7399\n",
            "Epoch 12/100\n",
            "36/36 [==============================] - 4s 103ms/step - loss: 0.0713 - accuracy: 0.9781 - val_loss: 1.4510 - val_accuracy: 0.7363\n",
            "Epoch 13/100\n",
            "36/36 [==============================] - 4s 103ms/step - loss: 0.0624 - accuracy: 0.9816 - val_loss: 1.3496 - val_accuracy: 0.7253\n",
            "Epoch 14/100\n",
            "36/36 [==============================] - 4s 104ms/step - loss: 0.0756 - accuracy: 0.9764 - val_loss: 1.3681 - val_accuracy: 0.7619\n",
            "Epoch 15/100\n",
            "36/36 [==============================] - 4s 106ms/step - loss: 0.0588 - accuracy: 0.9772 - val_loss: 1.5544 - val_accuracy: 0.7802\n",
            "Epoch 16/100\n",
            "36/36 [==============================] - 4s 104ms/step - loss: 0.0521 - accuracy: 0.9851 - val_loss: 1.4210 - val_accuracy: 0.7582\n",
            "Epoch 17/100\n",
            "36/36 [==============================] - 4s 104ms/step - loss: 0.0468 - accuracy: 0.9842 - val_loss: 1.5622 - val_accuracy: 0.7802\n",
            "Epoch 18/100\n",
            "36/36 [==============================] - 4s 104ms/step - loss: 0.0616 - accuracy: 0.9807 - val_loss: 1.4364 - val_accuracy: 0.7289\n",
            "Epoch 19/100\n",
            "36/36 [==============================] - 4s 103ms/step - loss: 0.0523 - accuracy: 0.9807 - val_loss: 1.4219 - val_accuracy: 0.7692\n",
            "Epoch 20/100\n",
            "36/36 [==============================] - 4s 106ms/step - loss: 0.0500 - accuracy: 0.9825 - val_loss: 1.4759 - val_accuracy: 0.7729\n",
            "Epoch 21/100\n",
            "36/36 [==============================] - 4s 102ms/step - loss: 0.0393 - accuracy: 0.9834 - val_loss: 1.5857 - val_accuracy: 0.7509\n",
            "Epoch 22/100\n",
            "36/36 [==============================] - 4s 103ms/step - loss: 0.0515 - accuracy: 0.9807 - val_loss: 1.3968 - val_accuracy: 0.7363\n",
            "Epoch 23/100\n",
            "36/36 [==============================] - 4s 104ms/step - loss: 0.0461 - accuracy: 0.9825 - val_loss: 1.4418 - val_accuracy: 0.7692\n",
            "Epoch 24/100\n",
            "36/36 [==============================] - 4s 101ms/step - loss: 0.0460 - accuracy: 0.9816 - val_loss: 1.4656 - val_accuracy: 0.7473\n",
            "Epoch 25/100\n",
            "36/36 [==============================] - 4s 107ms/step - loss: 0.0427 - accuracy: 0.9816 - val_loss: 1.6450 - val_accuracy: 0.7253\n",
            "Epoch 26/100\n",
            "36/36 [==============================] - 4s 104ms/step - loss: 0.0397 - accuracy: 0.9834 - val_loss: 1.8204 - val_accuracy: 0.7802\n",
            "Epoch 27/100\n",
            "36/36 [==============================] - 4s 103ms/step - loss: 0.0431 - accuracy: 0.9807 - val_loss: 1.5742 - val_accuracy: 0.7546\n",
            "Epoch 28/100\n",
            "36/36 [==============================] - 4s 102ms/step - loss: 0.0324 - accuracy: 0.9842 - val_loss: 1.5998 - val_accuracy: 0.7473\n",
            "Epoch 29/100\n",
            "36/36 [==============================] - 4s 103ms/step - loss: 0.0348 - accuracy: 0.9842 - val_loss: 1.7871 - val_accuracy: 0.7656\n",
            "Epoch 30/100\n",
            "36/36 [==============================] - 4s 102ms/step - loss: 0.0377 - accuracy: 0.9851 - val_loss: 1.5689 - val_accuracy: 0.7692\n",
            "Epoch 31/100\n",
            "36/36 [==============================] - 4s 104ms/step - loss: 0.0345 - accuracy: 0.9816 - val_loss: 1.6395 - val_accuracy: 0.7363\n",
            "Epoch 32/100\n",
            "36/36 [==============================] - 4s 102ms/step - loss: 0.0330 - accuracy: 0.9842 - val_loss: 1.6498 - val_accuracy: 0.7692\n",
            "Epoch 33/100\n",
            "36/36 [==============================] - 4s 102ms/step - loss: 0.0343 - accuracy: 0.9834 - val_loss: 1.6123 - val_accuracy: 0.7509\n",
            "Epoch 34/100\n",
            "36/36 [==============================] - 4s 102ms/step - loss: 0.0340 - accuracy: 0.9860 - val_loss: 1.7580 - val_accuracy: 0.7436\n",
            "Epoch 35/100\n",
            "36/36 [==============================] - 4s 103ms/step - loss: 0.0404 - accuracy: 0.9834 - val_loss: 1.4673 - val_accuracy: 0.7619\n",
            "Epoch 36/100\n",
            "36/36 [==============================] - 4s 103ms/step - loss: 0.0330 - accuracy: 0.9825 - val_loss: 1.6530 - val_accuracy: 0.7399\n",
            "Epoch 37/100\n",
            "36/36 [==============================] - 4s 103ms/step - loss: 0.0306 - accuracy: 0.9842 - val_loss: 1.6731 - val_accuracy: 0.7289\n",
            "Epoch 38/100\n",
            "36/36 [==============================] - 4s 104ms/step - loss: 0.0314 - accuracy: 0.9842 - val_loss: 1.5178 - val_accuracy: 0.7546\n",
            "Epoch 39/100\n",
            "36/36 [==============================] - 4s 105ms/step - loss: 0.0351 - accuracy: 0.9834 - val_loss: 1.5445 - val_accuracy: 0.7363\n",
            "Epoch 40/100\n",
            "36/36 [==============================] - 4s 104ms/step - loss: 0.0296 - accuracy: 0.9842 - val_loss: 1.6876 - val_accuracy: 0.7509\n",
            "Epoch 41/100\n",
            "36/36 [==============================] - 4s 103ms/step - loss: 0.0329 - accuracy: 0.9842 - val_loss: 1.5169 - val_accuracy: 0.7546\n",
            "Epoch 42/100\n",
            "36/36 [==============================] - 4s 104ms/step - loss: 0.0331 - accuracy: 0.9851 - val_loss: 1.9547 - val_accuracy: 0.7473\n",
            "Epoch 43/100\n",
            "36/36 [==============================] - 4s 102ms/step - loss: 0.0338 - accuracy: 0.9816 - val_loss: 1.6790 - val_accuracy: 0.7473\n",
            "Epoch 44/100\n",
            "36/36 [==============================] - 4s 102ms/step - loss: 0.0320 - accuracy: 0.9825 - val_loss: 1.8095 - val_accuracy: 0.7473\n",
            "Epoch 45/100\n",
            "36/36 [==============================] - 4s 102ms/step - loss: 0.0346 - accuracy: 0.9834 - val_loss: 1.7940 - val_accuracy: 0.7582\n",
            "Epoch 46/100\n",
            "36/36 [==============================] - 4s 103ms/step - loss: 0.0295 - accuracy: 0.9825 - val_loss: 1.6748 - val_accuracy: 0.7289\n",
            "Epoch 47/100\n",
            "36/36 [==============================] - 4s 105ms/step - loss: 0.0313 - accuracy: 0.9834 - val_loss: 1.6106 - val_accuracy: 0.7546\n",
            "Epoch 48/100\n",
            "36/36 [==============================] - 4s 103ms/step - loss: 0.0331 - accuracy: 0.9834 - val_loss: 1.6838 - val_accuracy: 0.7253\n",
            "Epoch 49/100\n",
            "36/36 [==============================] - 4s 102ms/step - loss: 0.0322 - accuracy: 0.9834 - val_loss: 1.7287 - val_accuracy: 0.7582\n",
            "Epoch 50/100\n",
            "36/36 [==============================] - 4s 103ms/step - loss: 0.0304 - accuracy: 0.9816 - val_loss: 1.7126 - val_accuracy: 0.7546\n",
            "Epoch 51/100\n",
            "36/36 [==============================] - 4s 102ms/step - loss: 0.0308 - accuracy: 0.9816 - val_loss: 1.5209 - val_accuracy: 0.7582\n",
            "Epoch 52/100\n",
            "36/36 [==============================] - 4s 102ms/step - loss: 0.0264 - accuracy: 0.9860 - val_loss: 1.7353 - val_accuracy: 0.7582\n",
            "Epoch 53/100\n",
            "36/36 [==============================] - 4s 104ms/step - loss: 0.0278 - accuracy: 0.9825 - val_loss: 1.6272 - val_accuracy: 0.7363\n",
            "Epoch 54/100\n",
            "36/36 [==============================] - 4s 103ms/step - loss: 0.0300 - accuracy: 0.9834 - val_loss: 1.7429 - val_accuracy: 0.7656\n",
            "Epoch 55/100\n",
            "36/36 [==============================] - 4s 104ms/step - loss: 0.0280 - accuracy: 0.9842 - val_loss: 1.8771 - val_accuracy: 0.7656\n",
            "Epoch 56/100\n",
            "36/36 [==============================] - 4s 104ms/step - loss: 0.0280 - accuracy: 0.9842 - val_loss: 1.5505 - val_accuracy: 0.7289\n",
            "Epoch 57/100\n",
            "36/36 [==============================] - 4s 102ms/step - loss: 0.0312 - accuracy: 0.9781 - val_loss: 1.6461 - val_accuracy: 0.7436\n",
            "Epoch 58/100\n",
            "36/36 [==============================] - 4s 103ms/step - loss: 0.0277 - accuracy: 0.9851 - val_loss: 1.7179 - val_accuracy: 0.7436\n",
            "Epoch 59/100\n",
            "36/36 [==============================] - 4s 101ms/step - loss: 0.0279 - accuracy: 0.9834 - val_loss: 1.8038 - val_accuracy: 0.7546\n",
            "Epoch 60/100\n",
            "36/36 [==============================] - 4s 103ms/step - loss: 0.0296 - accuracy: 0.9842 - val_loss: 1.7734 - val_accuracy: 0.7179\n",
            "Epoch 61/100\n",
            "36/36 [==============================] - 4s 103ms/step - loss: 0.0299 - accuracy: 0.9807 - val_loss: 1.7585 - val_accuracy: 0.7216\n",
            "Epoch 62/100\n",
            "36/36 [==============================] - 4s 102ms/step - loss: 0.0274 - accuracy: 0.9834 - val_loss: 1.5875 - val_accuracy: 0.7546\n",
            "Epoch 63/100\n",
            "36/36 [==============================] - 4s 101ms/step - loss: 0.0258 - accuracy: 0.9825 - val_loss: 1.9973 - val_accuracy: 0.7692\n",
            "Epoch 64/100\n",
            "36/36 [==============================] - 4s 104ms/step - loss: 0.0297 - accuracy: 0.9842 - val_loss: 1.7444 - val_accuracy: 0.7326\n",
            "Epoch 65/100\n",
            "36/36 [==============================] - 4s 103ms/step - loss: 0.0285 - accuracy: 0.9799 - val_loss: 1.6763 - val_accuracy: 0.7399\n",
            "Epoch 66/100\n",
            "36/36 [==============================] - 4s 102ms/step - loss: 0.0304 - accuracy: 0.9851 - val_loss: 1.8112 - val_accuracy: 0.7509\n",
            "Epoch 67/100\n",
            "36/36 [==============================] - 4s 104ms/step - loss: 0.0315 - accuracy: 0.9834 - val_loss: 1.8140 - val_accuracy: 0.7766\n",
            "Epoch 68/100\n",
            "36/36 [==============================] - 4s 105ms/step - loss: 0.0355 - accuracy: 0.9842 - val_loss: 1.6665 - val_accuracy: 0.7692\n",
            "Epoch 69/100\n",
            "36/36 [==============================] - 4s 102ms/step - loss: 0.0282 - accuracy: 0.9869 - val_loss: 1.8973 - val_accuracy: 0.7656\n",
            "Epoch 70/100\n",
            "36/36 [==============================] - 4s 104ms/step - loss: 0.0332 - accuracy: 0.9842 - val_loss: 1.7944 - val_accuracy: 0.7546\n",
            "Epoch 71/100\n",
            "36/36 [==============================] - 4s 104ms/step - loss: 0.0442 - accuracy: 0.9790 - val_loss: 1.8388 - val_accuracy: 0.7656\n",
            "Epoch 72/100\n",
            "36/36 [==============================] - 4s 106ms/step - loss: 0.0686 - accuracy: 0.9720 - val_loss: 2.0082 - val_accuracy: 0.7473\n",
            "Epoch 73/100\n",
            "36/36 [==============================] - 4s 105ms/step - loss: 0.0472 - accuracy: 0.9772 - val_loss: 1.8835 - val_accuracy: 0.7179\n",
            "Epoch 74/100\n",
            "36/36 [==============================] - 4s 107ms/step - loss: 0.0521 - accuracy: 0.9772 - val_loss: 2.1584 - val_accuracy: 0.6813\n",
            "Epoch 75/100\n",
            "36/36 [==============================] - 4s 102ms/step - loss: 0.0748 - accuracy: 0.9694 - val_loss: 1.9087 - val_accuracy: 0.7106\n",
            "Epoch 76/100\n",
            "36/36 [==============================] - 4s 102ms/step - loss: 0.0414 - accuracy: 0.9807 - val_loss: 1.8991 - val_accuracy: 0.7216\n",
            "Epoch 77/100\n",
            "36/36 [==============================] - 4s 101ms/step - loss: 0.0305 - accuracy: 0.9842 - val_loss: 1.8356 - val_accuracy: 0.7582\n",
            "Epoch 78/100\n",
            "36/36 [==============================] - 4s 103ms/step - loss: 0.0296 - accuracy: 0.9860 - val_loss: 2.1142 - val_accuracy: 0.7436\n",
            "Epoch 79/100\n",
            "36/36 [==============================] - 4s 103ms/step - loss: 0.0297 - accuracy: 0.9851 - val_loss: 2.0163 - val_accuracy: 0.7546\n",
            "Epoch 80/100\n",
            "36/36 [==============================] - 4s 104ms/step - loss: 0.0230 - accuracy: 0.9834 - val_loss: 1.9983 - val_accuracy: 0.7436\n",
            "Epoch 81/100\n",
            "36/36 [==============================] - 4s 103ms/step - loss: 0.0247 - accuracy: 0.9834 - val_loss: 1.9764 - val_accuracy: 0.7216\n",
            "Epoch 82/100\n",
            "36/36 [==============================] - 4s 104ms/step - loss: 0.0258 - accuracy: 0.9816 - val_loss: 1.8669 - val_accuracy: 0.7473\n",
            "Epoch 83/100\n",
            "36/36 [==============================] - 4s 103ms/step - loss: 0.0276 - accuracy: 0.9834 - val_loss: 1.7974 - val_accuracy: 0.7546\n",
            "Epoch 84/100\n",
            "36/36 [==============================] - 4s 101ms/step - loss: 0.0231 - accuracy: 0.9825 - val_loss: 2.1141 - val_accuracy: 0.7582\n",
            "Epoch 85/100\n",
            "36/36 [==============================] - 4s 101ms/step - loss: 0.0232 - accuracy: 0.9825 - val_loss: 1.8913 - val_accuracy: 0.7509\n",
            "Epoch 86/100\n",
            "36/36 [==============================] - 4s 103ms/step - loss: 0.0225 - accuracy: 0.9860 - val_loss: 1.9285 - val_accuracy: 0.7253\n",
            "Epoch 87/100\n",
            "36/36 [==============================] - 4s 104ms/step - loss: 0.0246 - accuracy: 0.9816 - val_loss: 1.9313 - val_accuracy: 0.7289\n",
            "Epoch 88/100\n",
            "36/36 [==============================] - 4s 106ms/step - loss: 0.0241 - accuracy: 0.9834 - val_loss: 1.8922 - val_accuracy: 0.7399\n",
            "Epoch 89/100\n",
            "36/36 [==============================] - 4s 104ms/step - loss: 0.0232 - accuracy: 0.9799 - val_loss: 1.9066 - val_accuracy: 0.7326\n",
            "Epoch 90/100\n",
            "36/36 [==============================] - 4s 106ms/step - loss: 0.0245 - accuracy: 0.9825 - val_loss: 1.9672 - val_accuracy: 0.7473\n",
            "Epoch 91/100\n",
            "36/36 [==============================] - 4s 103ms/step - loss: 0.0232 - accuracy: 0.9799 - val_loss: 1.8717 - val_accuracy: 0.7473\n",
            "Epoch 92/100\n",
            "36/36 [==============================] - 4s 103ms/step - loss: 0.0214 - accuracy: 0.9825 - val_loss: 2.0202 - val_accuracy: 0.7436\n",
            "Epoch 93/100\n",
            "36/36 [==============================] - 4s 103ms/step - loss: 0.0232 - accuracy: 0.9799 - val_loss: 1.9713 - val_accuracy: 0.7509\n",
            "Epoch 94/100\n",
            "36/36 [==============================] - 4s 102ms/step - loss: 0.0230 - accuracy: 0.9807 - val_loss: 1.9210 - val_accuracy: 0.7399\n",
            "Epoch 95/100\n",
            "36/36 [==============================] - 4s 115ms/step - loss: 0.0216 - accuracy: 0.9816 - val_loss: 2.0117 - val_accuracy: 0.7399\n",
            "Epoch 96/100\n",
            "36/36 [==============================] - 4s 106ms/step - loss: 0.0236 - accuracy: 0.9816 - val_loss: 1.8590 - val_accuracy: 0.7509\n",
            "Epoch 97/100\n",
            "36/36 [==============================] - 4s 105ms/step - loss: 0.0214 - accuracy: 0.9851 - val_loss: 2.0427 - val_accuracy: 0.7436\n",
            "Epoch 98/100\n",
            "36/36 [==============================] - 4s 103ms/step - loss: 0.0230 - accuracy: 0.9834 - val_loss: 1.9082 - val_accuracy: 0.7656\n",
            "Epoch 99/100\n",
            "36/36 [==============================] - 4s 103ms/step - loss: 0.0245 - accuracy: 0.9825 - val_loss: 1.9231 - val_accuracy: 0.7509\n",
            "Epoch 100/100\n",
            "36/36 [==============================] - 4s 102ms/step - loss: 0.0211 - accuracy: 0.9834 - val_loss: 2.0452 - val_accuracy: 0.7473\n"
          ]
        }
      ]
    },
    {
      "cell_type": "code",
      "source": [
        "import numpy as np\n",
        "import matplotlib.pyplot as plt\n",
        "from google.colab import files\n",
        "from keras.preprocessing import image\n",
        "\n",
        "uploaded=files.upload()\n",
        "\n",
        "for fn in uploaded.keys():\n",
        " \n",
        "    # predicting images\n",
        "    path='/content/' + fn\n",
        "    img=image.load_img(path, target_size=(310, 154, 3))\n",
        "    \n",
        "    x=image.img_to_array(img)\n",
        "    x /= 255\n",
        "    x=np.expand_dims(x, axis=0)\n",
        "    images = np.vstack([x])\n",
        "    \n",
        "    classes = model.predict(images, batch_size=10)\n",
        "\n",
        "    print(classes)\n",
        "\n",
        "    # x-coordinates of left sides of bars \n",
        "    left = [1, 2, 3, 4]\n",
        "\n",
        "    # heights of bars\n",
        "    height = classes[0]\n",
        "\n",
        "    # labels for bars\n",
        "    tick_label = ['bump', 'gear-change', 'horn', 'regular']\n",
        "\n",
        "    # plotting a bar chart\n",
        "    plt.bar(left, height, tick_label = tick_label,\n",
        "            width = 0.8)\n",
        "\n",
        "    # naming the x-axis\n",
        "    plt.xlabel('x - axis')\n",
        "    # naming the y-axis\n",
        "    plt.ylabel('y - axis')\n",
        "    # plot title\n",
        "    plt.title('My bar chart!')\n",
        "\n",
        "    # function to show the plot\n",
        "    plt.show()"
      ],
      "metadata": {
        "id": "n7031wRvnP7_",
        "colab": {
          "resources": {
            "http://localhost:8080/nbextensions/google.colab/files.js": {
              "data": "Ly8gQ29weXJpZ2h0IDIwMTcgR29vZ2xlIExMQwovLwovLyBMaWNlbnNlZCB1bmRlciB0aGUgQXBhY2hlIExpY2Vuc2UsIFZlcnNpb24gMi4wICh0aGUgIkxpY2Vuc2UiKTsKLy8geW91IG1heSBub3QgdXNlIHRoaXMgZmlsZSBleGNlcHQgaW4gY29tcGxpYW5jZSB3aXRoIHRoZSBMaWNlbnNlLgovLyBZb3UgbWF5IG9idGFpbiBhIGNvcHkgb2YgdGhlIExpY2Vuc2UgYXQKLy8KLy8gICAgICBodHRwOi8vd3d3LmFwYWNoZS5vcmcvbGljZW5zZXMvTElDRU5TRS0yLjAKLy8KLy8gVW5sZXNzIHJlcXVpcmVkIGJ5IGFwcGxpY2FibGUgbGF3IG9yIGFncmVlZCB0byBpbiB3cml0aW5nLCBzb2Z0d2FyZQovLyBkaXN0cmlidXRlZCB1bmRlciB0aGUgTGljZW5zZSBpcyBkaXN0cmlidXRlZCBvbiBhbiAiQVMgSVMiIEJBU0lTLAovLyBXSVRIT1VUIFdBUlJBTlRJRVMgT1IgQ09ORElUSU9OUyBPRiBBTlkgS0lORCwgZWl0aGVyIGV4cHJlc3Mgb3IgaW1wbGllZC4KLy8gU2VlIHRoZSBMaWNlbnNlIGZvciB0aGUgc3BlY2lmaWMgbGFuZ3VhZ2UgZ292ZXJuaW5nIHBlcm1pc3Npb25zIGFuZAovLyBsaW1pdGF0aW9ucyB1bmRlciB0aGUgTGljZW5zZS4KCi8qKgogKiBAZmlsZW92ZXJ2aWV3IEhlbHBlcnMgZm9yIGdvb2dsZS5jb2xhYiBQeXRob24gbW9kdWxlLgogKi8KKGZ1bmN0aW9uKHNjb3BlKSB7CmZ1bmN0aW9uIHNwYW4odGV4dCwgc3R5bGVBdHRyaWJ1dGVzID0ge30pIHsKICBjb25zdCBlbGVtZW50ID0gZG9jdW1lbnQuY3JlYXRlRWxlbWVudCgnc3BhbicpOwogIGVsZW1lbnQudGV4dENvbnRlbnQgPSB0ZXh0OwogIGZvciAoY29uc3Qga2V5IG9mIE9iamVjdC5rZXlzKHN0eWxlQXR0cmlidXRlcykpIHsKICAgIGVsZW1lbnQuc3R5bGVba2V5XSA9IHN0eWxlQXR0cmlidXRlc1trZXldOwogIH0KICByZXR1cm4gZWxlbWVudDsKfQoKLy8gTWF4IG51bWJlciBvZiBieXRlcyB3aGljaCB3aWxsIGJlIHVwbG9hZGVkIGF0IGEgdGltZS4KY29uc3QgTUFYX1BBWUxPQURfU0laRSA9IDEwMCAqIDEwMjQ7CgpmdW5jdGlvbiBfdXBsb2FkRmlsZXMoaW5wdXRJZCwgb3V0cHV0SWQpIHsKICBjb25zdCBzdGVwcyA9IHVwbG9hZEZpbGVzU3RlcChpbnB1dElkLCBvdXRwdXRJZCk7CiAgY29uc3Qgb3V0cHV0RWxlbWVudCA9IGRvY3VtZW50LmdldEVsZW1lbnRCeUlkKG91dHB1dElkKTsKICAvLyBDYWNoZSBzdGVwcyBvbiB0aGUgb3V0cHV0RWxlbWVudCB0byBtYWtlIGl0IGF2YWlsYWJsZSBmb3IgdGhlIG5leHQgY2FsbAogIC8vIHRvIHVwbG9hZEZpbGVzQ29udGludWUgZnJvbSBQeXRob24uCiAgb3V0cHV0RWxlbWVudC5zdGVwcyA9IHN0ZXBzOwoKICByZXR1cm4gX3VwbG9hZEZpbGVzQ29udGludWUob3V0cHV0SWQpOwp9CgovLyBUaGlzIGlzIHJvdWdobHkgYW4gYXN5bmMgZ2VuZXJhdG9yIChub3Qgc3VwcG9ydGVkIGluIHRoZSBicm93c2VyIHlldCksCi8vIHdoZXJlIHRoZXJlIGFyZSBtdWx0aXBsZSBhc3luY2hyb25vdXMgc3RlcHMgYW5kIHRoZSBQeXRob24gc2lkZSBpcyBnb2luZwovLyB0byBwb2xsIGZvciBjb21wbGV0aW9uIG9mIGVhY2ggc3RlcC4KLy8gVGhpcyB1c2VzIGEgUHJvbWlzZSB0byBibG9jayB0aGUgcHl0aG9uIHNpZGUgb24gY29tcGxldGlvbiBvZiBlYWNoIHN0ZXAsCi8vIHRoZW4gcGFzc2VzIHRoZSByZXN1bHQgb2YgdGhlIHByZXZpb3VzIHN0ZXAgYXMgdGhlIGlucHV0IHRvIHRoZSBuZXh0IHN0ZXAuCmZ1bmN0aW9uIF91cGxvYWRGaWxlc0NvbnRpbnVlKG91dHB1dElkKSB7CiAgY29uc3Qgb3V0cHV0RWxlbWVudCA9IGRvY3VtZW50LmdldEVsZW1lbnRCeUlkKG91dHB1dElkKTsKICBjb25zdCBzdGVwcyA9IG91dHB1dEVsZW1lbnQuc3RlcHM7CgogIGNvbnN0IG5leHQgPSBzdGVwcy5uZXh0KG91dHB1dEVsZW1lbnQubGFzdFByb21pc2VWYWx1ZSk7CiAgcmV0dXJuIFByb21pc2UucmVzb2x2ZShuZXh0LnZhbHVlLnByb21pc2UpLnRoZW4oKHZhbHVlKSA9PiB7CiAgICAvLyBDYWNoZSB0aGUgbGFzdCBwcm9taXNlIHZhbHVlIHRvIG1ha2UgaXQgYXZhaWxhYmxlIHRvIHRoZSBuZXh0CiAgICAvLyBzdGVwIG9mIHRoZSBnZW5lcmF0b3IuCiAgICBvdXRwdXRFbGVtZW50Lmxhc3RQcm9taXNlVmFsdWUgPSB2YWx1ZTsKICAgIHJldHVybiBuZXh0LnZhbHVlLnJlc3BvbnNlOwogIH0pOwp9CgovKioKICogR2VuZXJhdG9yIGZ1bmN0aW9uIHdoaWNoIGlzIGNhbGxlZCBiZXR3ZWVuIGVhY2ggYXN5bmMgc3RlcCBvZiB0aGUgdXBsb2FkCiAqIHByb2Nlc3MuCiAqIEBwYXJhbSB7c3RyaW5nfSBpbnB1dElkIEVsZW1lbnQgSUQgb2YgdGhlIGlucHV0IGZpbGUgcGlja2VyIGVsZW1lbnQuCiAqIEBwYXJhbSB7c3RyaW5nfSBvdXRwdXRJZCBFbGVtZW50IElEIG9mIHRoZSBvdXRwdXQgZGlzcGxheS4KICogQHJldHVybiB7IUl0ZXJhYmxlPCFPYmplY3Q+fSBJdGVyYWJsZSBvZiBuZXh0IHN0ZXBzLgogKi8KZnVuY3Rpb24qIHVwbG9hZEZpbGVzU3RlcChpbnB1dElkLCBvdXRwdXRJZCkgewogIGNvbnN0IGlucHV0RWxlbWVudCA9IGRvY3VtZW50LmdldEVsZW1lbnRCeUlkKGlucHV0SWQpOwogIGlucHV0RWxlbWVudC5kaXNhYmxlZCA9IGZhbHNlOwoKICBjb25zdCBvdXRwdXRFbGVtZW50ID0gZG9jdW1lbnQuZ2V0RWxlbWVudEJ5SWQob3V0cHV0SWQpOwogIG91dHB1dEVsZW1lbnQuaW5uZXJIVE1MID0gJyc7CgogIGNvbnN0IHBpY2tlZFByb21pc2UgPSBuZXcgUHJvbWlzZSgocmVzb2x2ZSkgPT4gewogICAgaW5wdXRFbGVtZW50LmFkZEV2ZW50TGlzdGVuZXIoJ2NoYW5nZScsIChlKSA9PiB7CiAgICAgIHJlc29sdmUoZS50YXJnZXQuZmlsZXMpOwogICAgfSk7CiAgfSk7CgogIGNvbnN0IGNhbmNlbCA9IGRvY3VtZW50LmNyZWF0ZUVsZW1lbnQoJ2J1dHRvbicpOwogIGlucHV0RWxlbWVudC5wYXJlbnRFbGVtZW50LmFwcGVuZENoaWxkKGNhbmNlbCk7CiAgY2FuY2VsLnRleHRDb250ZW50ID0gJ0NhbmNlbCB1cGxvYWQnOwogIGNvbnN0IGNhbmNlbFByb21pc2UgPSBuZXcgUHJvbWlzZSgocmVzb2x2ZSkgPT4gewogICAgY2FuY2VsLm9uY2xpY2sgPSAoKSA9PiB7CiAgICAgIHJlc29sdmUobnVsbCk7CiAgICB9OwogIH0pOwoKICAvLyBXYWl0IGZvciB0aGUgdXNlciB0byBwaWNrIHRoZSBmaWxlcy4KICBjb25zdCBmaWxlcyA9IHlpZWxkIHsKICAgIHByb21pc2U6IFByb21pc2UucmFjZShbcGlja2VkUHJvbWlzZSwgY2FuY2VsUHJvbWlzZV0pLAogICAgcmVzcG9uc2U6IHsKICAgICAgYWN0aW9uOiAnc3RhcnRpbmcnLAogICAgfQogIH07CgogIGNhbmNlbC5yZW1vdmUoKTsKCiAgLy8gRGlzYWJsZSB0aGUgaW5wdXQgZWxlbWVudCBzaW5jZSBmdXJ0aGVyIHBpY2tzIGFyZSBub3QgYWxsb3dlZC4KICBpbnB1dEVsZW1lbnQuZGlzYWJsZWQgPSB0cnVlOwoKICBpZiAoIWZpbGVzKSB7CiAgICByZXR1cm4gewogICAgICByZXNwb25zZTogewogICAgICAgIGFjdGlvbjogJ2NvbXBsZXRlJywKICAgICAgfQogICAgfTsKICB9CgogIGZvciAoY29uc3QgZmlsZSBvZiBmaWxlcykgewogICAgY29uc3QgbGkgPSBkb2N1bWVudC5jcmVhdGVFbGVtZW50KCdsaScpOwogICAgbGkuYXBwZW5kKHNwYW4oZmlsZS5uYW1lLCB7Zm9udFdlaWdodDogJ2JvbGQnfSkpOwogICAgbGkuYXBwZW5kKHNwYW4oCiAgICAgICAgYCgke2ZpbGUudHlwZSB8fCAnbi9hJ30pIC0gJHtmaWxlLnNpemV9IGJ5dGVzLCBgICsKICAgICAgICBgbGFzdCBtb2RpZmllZDogJHsKICAgICAgICAgICAgZmlsZS5sYXN0TW9kaWZpZWREYXRlID8gZmlsZS5sYXN0TW9kaWZpZWREYXRlLnRvTG9jYWxlRGF0ZVN0cmluZygpIDoKICAgICAgICAgICAgICAgICAgICAgICAgICAgICAgICAgICAgJ24vYSd9IC0gYCkpOwogICAgY29uc3QgcGVyY2VudCA9IHNwYW4oJzAlIGRvbmUnKTsKICAgIGxpLmFwcGVuZENoaWxkKHBlcmNlbnQpOwoKICAgIG91dHB1dEVsZW1lbnQuYXBwZW5kQ2hpbGQobGkpOwoKICAgIGNvbnN0IGZpbGVEYXRhUHJvbWlzZSA9IG5ldyBQcm9taXNlKChyZXNvbHZlKSA9PiB7CiAgICAgIGNvbnN0IHJlYWRlciA9IG5ldyBGaWxlUmVhZGVyKCk7CiAgICAgIHJlYWRlci5vbmxvYWQgPSAoZSkgPT4gewogICAgICAgIHJlc29sdmUoZS50YXJnZXQucmVzdWx0KTsKICAgICAgfTsKICAgICAgcmVhZGVyLnJlYWRBc0FycmF5QnVmZmVyKGZpbGUpOwogICAgfSk7CiAgICAvLyBXYWl0IGZvciB0aGUgZGF0YSB0byBiZSByZWFkeS4KICAgIGxldCBmaWxlRGF0YSA9IHlpZWxkIHsKICAgICAgcHJvbWlzZTogZmlsZURhdGFQcm9taXNlLAogICAgICByZXNwb25zZTogewogICAgICAgIGFjdGlvbjogJ2NvbnRpbnVlJywKICAgICAgfQogICAgfTsKCiAgICAvLyBVc2UgYSBjaHVua2VkIHNlbmRpbmcgdG8gYXZvaWQgbWVzc2FnZSBzaXplIGxpbWl0cy4gU2VlIGIvNjIxMTU2NjAuCiAgICBsZXQgcG9zaXRpb24gPSAwOwogICAgZG8gewogICAgICBjb25zdCBsZW5ndGggPSBNYXRoLm1pbihmaWxlRGF0YS5ieXRlTGVuZ3RoIC0gcG9zaXRpb24sIE1BWF9QQVlMT0FEX1NJWkUpOwogICAgICBjb25zdCBjaHVuayA9IG5ldyBVaW50OEFycmF5KGZpbGVEYXRhLCBwb3NpdGlvbiwgbGVuZ3RoKTsKICAgICAgcG9zaXRpb24gKz0gbGVuZ3RoOwoKICAgICAgY29uc3QgYmFzZTY0ID0gYnRvYShTdHJpbmcuZnJvbUNoYXJDb2RlLmFwcGx5KG51bGwsIGNodW5rKSk7CiAgICAgIHlpZWxkIHsKICAgICAgICByZXNwb25zZTogewogICAgICAgICAgYWN0aW9uOiAnYXBwZW5kJywKICAgICAgICAgIGZpbGU6IGZpbGUubmFtZSwKICAgICAgICAgIGRhdGE6IGJhc2U2NCwKICAgICAgICB9LAogICAgICB9OwoKICAgICAgbGV0IHBlcmNlbnREb25lID0gZmlsZURhdGEuYnl0ZUxlbmd0aCA9PT0gMCA/CiAgICAgICAgICAxMDAgOgogICAgICAgICAgTWF0aC5yb3VuZCgocG9zaXRpb24gLyBmaWxlRGF0YS5ieXRlTGVuZ3RoKSAqIDEwMCk7CiAgICAgIHBlcmNlbnQudGV4dENvbnRlbnQgPSBgJHtwZXJjZW50RG9uZX0lIGRvbmVgOwoKICAgIH0gd2hpbGUgKHBvc2l0aW9uIDwgZmlsZURhdGEuYnl0ZUxlbmd0aCk7CiAgfQoKICAvLyBBbGwgZG9uZS4KICB5aWVsZCB7CiAgICByZXNwb25zZTogewogICAgICBhY3Rpb246ICdjb21wbGV0ZScsCiAgICB9CiAgfTsKfQoKc2NvcGUuZ29vZ2xlID0gc2NvcGUuZ29vZ2xlIHx8IHt9OwpzY29wZS5nb29nbGUuY29sYWIgPSBzY29wZS5nb29nbGUuY29sYWIgfHwge307CnNjb3BlLmdvb2dsZS5jb2xhYi5fZmlsZXMgPSB7CiAgX3VwbG9hZEZpbGVzLAogIF91cGxvYWRGaWxlc0NvbnRpbnVlLAp9Owp9KShzZWxmKTsK",
              "ok": true,
              "headers": [
                [
                  "content-type",
                  "application/javascript"
                ]
              ],
              "status": 200,
              "status_text": ""
            }
          },
          "base_uri": "https://localhost:8080/",
          "height": 369
        },
        "outputId": "3607ffb7-9954-4fab-91cb-29d030252255"
      },
      "execution_count": 19,
      "outputs": [
        {
          "output_type": "display_data",
          "data": {
            "text/plain": [
              "<IPython.core.display.HTML object>"
            ],
            "text/html": [
              "\n",
              "     <input type=\"file\" id=\"files-0489a3bc-892a-4ef1-85f7-cb2db16bc2e4\" name=\"files[]\" multiple disabled\n",
              "        style=\"border:none\" />\n",
              "     <output id=\"result-0489a3bc-892a-4ef1-85f7-cb2db16bc2e4\">\n",
              "      Upload widget is only available when the cell has been executed in the\n",
              "      current browser session. Please rerun this cell to enable.\n",
              "      </output>\n",
              "      <script src=\"/nbextensions/google.colab/files.js\"></script> "
            ]
          },
          "metadata": {}
        },
        {
          "output_type": "stream",
          "name": "stdout",
          "text": [
            "Saving kpt-scem_628.0-630.0.png to kpt-scem_628.0-630.0.png\n",
            "[[3.9837530e-04 2.7191680e-05 9.9635351e-01 3.2208893e-03]]\n"
          ]
        },
        {
          "output_type": "display_data",
          "data": {
            "text/plain": [
              "<Figure size 432x288 with 1 Axes>"
            ],
            "image/png": "[encoded data removed]"
          },
          "metadata": {
            "needs_background": "light"
          }
        }
      ]
    },
    {
      "cell_type": "code",
      "source": [
        "model.save('my_model.h5')"
      ],
      "metadata": {
        "id": "deHqfFZglgJ3"
      },
      "execution_count": 20,
      "outputs": []
    },
    {
      "cell_type": "code",
      "source": [
        ""
      ],
      "metadata": {
        "id": "gSVIpYYCvzIc"
      },
      "execution_count": null,
      "outputs": []
    }
  ]
}